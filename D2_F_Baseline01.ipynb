{
  "nbformat": 4,
  "nbformat_minor": 0,
  "metadata": {
    "colab": {
      "provenance": [],
      "collapsed_sections": []
    },
    "kernelspec": {
      "name": "python3",
      "display_name": "Python 3"
    },
    "language_info": {
      "name": "python"
    }
  },
  "cells": [
    {
      "cell_type": "markdown",
      "source": [
        "#gdrive access\n",
        "/content/gdrive/MyDrive/STUDY/Dacon22\n",
        "평가 산식 : RMSE"
      ],
      "metadata": {
        "id": "nXu45XGaKe-U"
      }
    },
    {
      "cell_type": "code",
      "source": [
        "from google.colab import drive, files\n",
        "drive.mount('/content/gdrive')"
      ],
      "metadata": {
        "colab": {
          "base_uri": "https://localhost:8080/"
        },
        "id": "Ow8ZcB1-KexT",
        "outputId": "d12c523f-c22c-4e01-9f9b-7c2b1abb13a1"
      },
      "execution_count": null,
      "outputs": [
        {
          "output_type": "stream",
          "name": "stdout",
          "text": [
            "Mounted at /content/gdrive\n"
          ]
        }
      ]
    },
    {
      "cell_type": "markdown",
      "source": [
        "#library loading"
      ],
      "metadata": {
        "id": "CTs3by36LWxY"
      }
    },
    {
      "cell_type": "code",
      "execution_count": null,
      "metadata": {
        "id": "4DfY7dKmKaBw"
      },
      "outputs": [],
      "source": [
        "import pandas as pd\n",
        "from sklearn.ensemble import RandomForestRegressor"
      ]
    },
    {
      "cell_type": "markdown",
      "source": [
        "#import data"
      ],
      "metadata": {
        "id": "xihnp8UJLJ-m"
      }
    },
    {
      "cell_type": "code",
      "source": [
        "train=pd.read_csv('/content/gdrive/MyDrive/STUDY/Dacon22/따릉이/train.csv')\n",
        "test=pd.read_csv('/content/gdrive/MyDrive/STUDY/Dacon22/따릉이/test.csv')"
      ],
      "metadata": {
        "id": "tkBBxxkOLMBp"
      },
      "execution_count": null,
      "outputs": []
    },
    {
      "cell_type": "code",
      "source": [
        "print(trian.info())\n",
        "print(train.head())"
      ],
      "metadata": {
        "id": "TxHzTXJ9lblK"
      },
      "execution_count": null,
      "outputs": []
    },
    {
      "cell_type": "markdown",
      "source": [
        "#결측치 확인 및 처리"
      ],
      "metadata": {
        "id": "wQjQG6QkljsJ"
      }
    },
    {
      "cell_type": "code",
      "source": [
        "train.isnull().sum()\n",
        "test.isnull().sum()"
      ],
      "metadata": {
        "id": "gVpDApAXlnCB"
      },
      "execution_count": null,
      "outputs": []
    },
    {
      "cell_type": "markdown",
      "source": [
        "#모델 정의 및 학습"
      ],
      "metadata": {
        "id": "IAbQXj06lyAs"
      }
    },
    {
      "cell_type": "code",
      "source": [],
      "metadata": {
        "id": "53A8egG8lxcZ"
      },
      "execution_count": null,
      "outputs": []
    }
  ]
}